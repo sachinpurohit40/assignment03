{
 "cells": [
  {
   "cell_type": "markdown",
   "id": "74f737eb",
   "metadata": {},
   "source": [
    "# ASSINGNMENT 3\n",
    "\n",
    "\n"
   ]
  },
  {
   "cell_type": "markdown",
   "id": "c8d455e2",
   "metadata": {},
   "source": [
    "Q1.  Why are functions advantageous to have in your programs?\n",
    "\n",
    "Ans 1 = Using functions in our Python programs can be useful at times, and actually, knowingly or unknowingly,\n",
    "we have been using many functions for doing different things, like taking input from the user or printing something on the screen,\n",
    "checking the type of the object, and many others.\n",
    "So, when we are learning about functions and using them in our Python programs, it becomes important for us,\n",
    "to understand their advantages as well. Understanding this, we have come up with this easy-to-understand article, \n",
    "which would explain the advantages of functions in Python.\n",
    "1 .Reducing duplication of code.\n",
    "2. Improved reusability of code\n",
    "3. Write Clearer Code\n",
    "4. Bigger problems are broken down into smaller problems."
   ]
  },
  {
   "cell_type": "markdown",
   "id": "b48afa36",
   "metadata": {},
   "source": [
    "q2 = . When does the code in a function run: when it's specified or when it's called?\n",
    "\n",
    "ans2 = The code inside a function runs when the function is called, not when           it's specified or defined."
   ]
  },
  {
   "cell_type": "code",
   "execution_count": 5,
   "id": "8557bf8f",
   "metadata": {},
   "outputs": [],
   "source": [
    "def my_function(parameter1, parameter2):\n",
    "    # Code to be executed when the function is called\n",
    "    result = parameter1 + parameter2\n",
    "    return result"
   ]
  },
  {
   "cell_type": "markdown",
   "id": "becd0ab5",
   "metadata": {},
   "source": [
    "q3 = What statement creates a function?\n",
    "\n",
    "ans3 = The def statement defines (i.e. creates) a function.\n",
    "Eg . \n",
    "def my_func():\n"
   ]
  },
  {
   "cell_type": "code",
   "execution_count": 10,
   "id": "54fd5f52",
   "metadata": {},
   "outputs": [],
   "source": [
    "def my_func():\n",
    "    pass\n",
    "\n",
    "my_func()\n",
    "    "
   ]
  },
  {
   "cell_type": "markdown",
   "id": "276bd1ad",
   "metadata": {},
   "source": [
    "q4. = What is the difference between a function and a function call.?\n",
    "\n",
    "ans 4 = In Python, a function is a block of code that performs a specific task and may or may not return a value. \n",
    "         A function is defined using the def keyword, followed by the function name and a set of parentheses \n",
    "         that may include parameters.  Here is an example of a function definition in Python:"
   ]
  },
  {
   "cell_type": "code",
   "execution_count": 14,
   "id": "f6c6bf3d",
   "metadata": {},
   "outputs": [],
   "source": [
    "def greet(name):\n",
    "    print(\"Hello, \" + name)"
   ]
  },
  {
   "cell_type": "markdown",
   "id": "1e404516",
   "metadata": {},
   "source": [
    "This function, called greet, takes a single parameter called name and prints a greeting message using the value of name.\n",
    "\n"
   ]
  },
  {
   "cell_type": "markdown",
   "id": "b489b151",
   "metadata": {},
   "source": [
    "A function call is an expression that invokes a function. To call a function in Python, \n",
    "you simply write the function name followed by a set of parentheses that may include arguments. \n",
    "Here is an example of a function call in Python:\n",
    "\n"
   ]
  },
  {
   "cell_type": "code",
   "execution_count": 16,
   "id": "e92e3701",
   "metadata": {},
   "outputs": [
    {
     "name": "stdout",
     "output_type": "stream",
     "text": [
      "Hello, John\n"
     ]
    }
   ],
   "source": [
    "greet(\"John\")"
   ]
  },
  {
   "cell_type": "markdown",
   "id": "a17929b5",
   "metadata": {},
   "source": [
    "This function call invokes the greet function with the argument \"John\", which will cause it to print the message \"Hello, John\"."
   ]
  },
  {
   "cell_type": "markdown",
   "id": "eb9427ae",
   "metadata": {},
   "source": [
    "q5 =  How many global scopes are there in a Python program? How many local scopes?\n",
    "\n",
    "ans5 = Global Scope -  A variable created in the main body of the Python code is a global variable and belongs to the global\n",
    "       scope.  Global variables are available from within any scope, global and local."
   ]
  },
  {
   "cell_type": "code",
   "execution_count": 18,
   "id": "7271b70a",
   "metadata": {},
   "outputs": [
    {
     "name": "stdout",
     "output_type": "stream",
     "text": [
      "300\n",
      "300\n"
     ]
    }
   ],
   "source": [
    "x = 300\n",
    "\n",
    "def myfunc():\n",
    "    print(x)\n",
    "\n",
    "myfunc()\n",
    "\n",
    "print(x)\n"
   ]
  },
  {
   "cell_type": "markdown",
   "id": "bc845163",
   "metadata": {},
   "source": [
    " LOCAL SCOPE -The Variables which are defined in the function are a local scope of the variable. \n",
    "These variables are defined in the function body. Let’s understand this concept with the help of an example.\n",
    "In this example 1, we have taken one variable num. Num = 0 is defined outside the function, so it is not a local variable.\n",
    "As per our definition, the variables which are declared inside the function body is a local variable.\n",
    "Here num=1 is a local variable that is declared and printed inside the function demo. If we run this code, the output is given below."
   ]
  },
  {
   "cell_type": "code",
   "execution_count": 20,
   "id": "ef510c59",
   "metadata": {},
   "outputs": [
    {
     "name": "stdout",
     "output_type": "stream",
     "text": [
      "The Number is: 1\n"
     ]
    }
   ],
   "source": [
    "num=0\n",
    "def demo():\n",
    "    #print(num)\n",
    "    num=1\n",
    "    print(\"The Number is:\",num)\n",
    "demo()"
   ]
  },
  {
   "cell_type": "markdown",
   "id": "76c759c4",
   "metadata": {},
   "source": [
    "QUE 6  =   What happens to variables in a local scope when the function call returns?\n",
    "\n",
    "ans 6  =    When a function call returns, the variables defined in its local scope are no longer accessible and their memory is              released by the program. However, if a variable is defined as a global variable, \n",
    "            it will retain its value even after the function call returns. Additionally, if a variable from the local scope is               passed as an argument to another function, \n",
    "            its value may be retained in that function's scope.   When  a function returns, the local scope is destroyed."
   ]
  },
  {
   "cell_type": "markdown",
   "id": "6e0b7702",
   "metadata": {},
   "source": [
    "que 7 = What is the concept of a return value? Is it possible to have a return value in an expression?\n",
    "\n",
    "Ans = A return value is a concept in programming that refers to the data or value that a function or method provides as its                 output after performing some operation or computation. \n",
    "           When you call a function or method in a programming language, you often do so to obtain a result, and that result is            typically the return value of the function or method.\n",
    "             Here's how it works:\n",
    "       You call a function or method by providing it with input parameters (if required).\n",
    "        The function or method then performs some computation or operation using these inputs.\n",
    "       After completing its task, the function or method may produce a result, which is known as the return value.\n",
    "     You can use this return value in your program for further processing, calculations, or other tasks."
   ]
  },
  {
   "cell_type": "markdown",
   "id": "1145e2e7",
   "metadata": {},
   "source": [
    "def add(a, b):\n",
    "    result = a + b\n",
    "    return result\n",
    "sum = add(3, 5)\n",
    "print(sum) "
   ]
  },
  {
   "cell_type": "markdown",
   "id": "4eb93ccf",
   "metadata": {},
   "source": [
    "yes, it is possible to have a return value in an expression, and it can be used just like any other value in that language. \n",
    "The specific syntax and rules for using return values in expressions will depend on the programming language you're using."
   ]
  },
  {
   "cell_type": "markdown",
   "id": "8a89949c",
   "metadata": {},
   "source": [
    "que8 =     If a function does not have a return statement, what is the return value of a call to that function?\n",
    "\n",
    "\n",
    "ans 8 =    In Python, if a function does not have a return statement, it implicitly returns None. None is a special object in Python that represents the absence of a value. \n",
    "           So, if you call a function that lacks a return statement, it will execute its code and implicitly return None as its result."
   ]
  },
  {
   "cell_type": "code",
   "execution_count": 49,
   "id": "bccf7ca4",
   "metadata": {},
   "outputs": [],
   "source": [
    "def my_function():\n",
    "    # This function does not have a return statement\n",
    "\n",
    "         result = my_function()\n",
    "         print(result)  # This will print \"None\"\n"
   ]
  },
  {
   "cell_type": "markdown",
   "id": "fd780689",
   "metadata": {},
   "source": [
    "in this example, my_function does not have a return statement, so when you call it and assign the result to the result variable, it will contain None, which is printed in the subsequent print statement."
   ]
  },
  {
   "cell_type": "markdown",
   "id": "d3972665",
   "metadata": {},
   "source": [
    "que 9 =   How do you make a function variable refer to the global variable? How do you make a function variable refer to the global variable?\n",
    "\n",
    "ans9 =   In Python, you can make a function variable refer to a global variable by using the global keyword. This allows you to           modify the global variable from within the function. Here's how you can do it:\n"
   ]
  },
  {
   "cell_type": "code",
   "execution_count": 1,
   "id": "b65695f5",
   "metadata": {},
   "outputs": [
    {
     "name": "stdout",
     "output_type": "stream",
     "text": [
      "20\n"
     ]
    }
   ],
   "source": [
    "global_variable = 10  # This is a global variable\n",
    "\n",
    "def modify_global_variable():\n",
    "    global global_variable  # Use the 'global' keyword to indicate that you want to work with the global variable\n",
    "    global_variable = 20  # Modify the global variable\n",
    "\n",
    "modify_global_variable()\n",
    "print(global_variable)  # This will print '20' because the global variable has been modified inside the function\n"
   ]
  },
  {
   "cell_type": "markdown",
   "id": "2e36afa7",
   "metadata": {},
   "source": [
    "que10 = What is the data type of None?\n",
    "\n",
    "ans 10 = None is used to define a null value or Null object in Python. It is not the same as an empty string, a False, or a zero. It is a data type of the class NoneType object. "
   ]
  },
  {
   "cell_type": "code",
   "execution_count": 2,
   "id": "b7989a51",
   "metadata": {},
   "outputs": [
    {
     "name": "stdout",
     "output_type": "stream",
     "text": [
      "None\n"
     ]
    }
   ],
   "source": [
    "def check_return():\n",
    "    pass\n",
    "print(check_return())"
   ]
  },
  {
   "cell_type": "markdown",
   "id": "96c923ea",
   "metadata": {},
   "source": [
    "que 11 = What does the sentence import areallyourpetsnamederic do?\n",
    "\n",
    "ans 11 = The sentence \"import areallyourpetsnamederic\" is not a valid Python import statement,\n",
    "          and it would result in a syntax error if you tried to use it in a Python program. \n",
    "           In Python, But a module of this name doesnt exists in Python"
   ]
  },
  {
   "cell_type": "markdown",
   "id": "59e79f63",
   "metadata": {},
   "source": [
    "que 12 = If you had a bacon() feature in a spam module, what would you call it after importing spam?\n",
    "\n",
    "ans 12 = After importing the spam module in Python, you can access the bacon() feature using the dot notation. \n",
    "          You would call it like this:"
   ]
  },
  {
   "cell_type": "code",
   "execution_count": null,
   "id": "5560231d",
   "metadata": {},
   "outputs": [],
   "source": [
    "import spam\n",
    "spam.bacon()"
   ]
  },
  {
   "cell_type": "markdown",
   "id": "877b2d1e",
   "metadata": {},
   "source": [
    "que 13=  What can you do to save a programme from crashing if it encounters an error?\n",
    "\n",
    "ans 13=  To prevent a program from crashing when it encounters an error, you can use exception handling. In Python, you can use          try-except blocks to catch and handle exceptions gracefully. Here's how you can do it:\n",
    "\n",
    "         \n"
   ]
  },
  {
   "cell_type": "code",
   "execution_count": 6,
   "id": "8433ad7e",
   "metadata": {},
   "outputs": [
    {
     "name": "stdout",
     "output_type": "stream",
     "text": [
      "An error occurred: division by zero\n",
      "Program execution completed.\n"
     ]
    }
   ],
   "source": [
    "try:\n",
    "    # Code that might raise an error\n",
    "    result = 10 / 0  # This will raise a ZeroDivisionError\n",
    "except ZeroDivisionError as e:\n",
    "    # Handle the specific exception (in this case, ZeroDivisionError)\n",
    "    print(\"An error occurred:\", e)\n",
    "    # You can add code here to handle the error gracefully\n",
    "else:\n",
    "    # This block is executed if there are no exceptions\n",
    "    print(\"No errors occurred.\")\n",
    "finally:\n",
    "    # This block is always executed, whether an exception occurred or not\n",
    "    print(\"Program execution completed.\")\n"
   ]
  },
  {
   "cell_type": "markdown",
   "id": "cf6364c7",
   "metadata": {},
   "source": [
    "que 14 = What is the purpose of the try clause? What is the purpose of the except clause?\n",
    "\n",
    "ans 14 = 1 try - The try clause is used to enclose a block of code that may potentially raise an exception or an error.\n",
    "                  It allows you to specify the code that you want to test for exceptions.\n",
    "                 If an exception occurs within the try block, the execution of the try block is immediately halted, and Python                    looks for a  matching except block to handle the exception.\n",
    "                 If no exception occurs, the code within the try block is executed normally.\n",
    "            \n",
    "         2 except - The except clause follows the try block and is used to specify how to handle exceptions that may be raised within the try block.\n",
    "                   It allows you to catch and handle specific types of exceptions or errors.\n",
    "                   You can have multiple except clauses to handle different types of exceptions.\n",
    "                     If an exception of the specified type occurs in the try block, the code within the corresponding except block is executed to handle the exception.\n",
    "                  If no exception of the specified type occurs, the corresponding except block is skipped.   \n",
    "                \n",
    "        eg. "
   ]
  },
  {
   "cell_type": "code",
   "execution_count": 11,
   "id": "91e679e3",
   "metadata": {},
   "outputs": [
    {
     "name": "stdout",
     "output_type": "stream",
     "text": [
      "Enter a number: 10\n",
      "Result: 1.0\n"
     ]
    }
   ],
   "source": [
    "try:\n",
    "    num = int(input(\"Enter a number: \"))\n",
    "    result = 10 / num\n",
    "    print(\"Result:\", result)\n",
    "except ZeroDivisionError:\n",
    "    print(\"Error: Cannot divide by zero.\")\n",
    "except ValueError:\n",
    "    print(\"Error: Invalid input. Please enter a valid number.\")\n"
   ]
  },
  {
   "cell_type": "markdown",
   "id": "666cbb76",
   "metadata": {},
   "source": []
  },
  {
   "cell_type": "markdown",
   "id": "44d687ac",
   "metadata": {},
   "source": []
  }
 ],
 "metadata": {
  "kernelspec": {
   "display_name": "Python 3 (ipykernel)",
   "language": "python",
   "name": "python3"
  },
  "language_info": {
   "codemirror_mode": {
    "name": "ipython",
    "version": 3
   },
   "file_extension": ".py",
   "mimetype": "text/x-python",
   "name": "python",
   "nbconvert_exporter": "python",
   "pygments_lexer": "ipython3",
   "version": "3.11.4"
  }
 },
 "nbformat": 4,
 "nbformat_minor": 5
}
